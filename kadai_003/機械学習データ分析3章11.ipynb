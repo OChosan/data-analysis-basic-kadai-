{
  "nbformat": 4,
  "nbformat_minor": 0,
  "metadata": {
    "colab": {
      "provenance": []
    },
    "kernelspec": {
      "name": "python3",
      "display_name": "Python 3"
    },
    "language_info": {
      "name": "python"
    }
  },
  "cells": [
    {
      "cell_type": "code",
      "execution_count": 1,
      "metadata": {
        "colab": {
          "base_uri": "https://localhost:8080/"
        },
        "id": "j9uSSkJc7FIw",
        "outputId": "369bd709-c762-44a4-ca3a-d352169cf254"
      },
      "outputs": [
        {
          "output_type": "stream",
          "name": "stdout",
          "text": [
            "行列の積の計算結果:\n",
            "[[ 4  5  6  7]\n",
            " [12 17 22 27]\n",
            " [20 29 38 47]]\n",
            "計算された行列の要素の最大値: 47\n"
          ]
        }
      ],
      "source": [
        "# Step1. NumPyをインポートするコードを記述する\n",
        "import numpy as np\n",
        "\n",
        "# Step2. AとBの行列を格納する多次元配列のコードを記述する\n",
        "A = np.array([[0, 1], [2, 3], [4, 5]])\n",
        "B = np.array([[0, 1, 2, 3], [4, 5, 6, 7]])\n",
        "\n",
        "# Step3. 行列の積の計算をするコードを記述する\n",
        "result = np.dot(A, B)\n",
        "\n",
        "# Step4. Step3.の計算結果を表示するコードを記述する\n",
        "print(\"行列の積の計算結果:\")\n",
        "print(result)\n",
        "\n",
        "# Step5. 行列の要素の最大値を求めるコードを記述する\n",
        "max_value = np.max(result)\n",
        "print(\"計算された行列の要素の最大値:\", max_value)\n"
      ]
    }
  ]
}