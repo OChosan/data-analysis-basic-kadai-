{
  "nbformat": 4,
  "nbformat_minor": 0,
  "metadata": {
    "colab": {
      "provenance": []
    },
    "kernelspec": {
      "name": "python3",
      "display_name": "Python 3"
    },
    "language_info": {
      "name": "python"
    }
  },
  "cells": [
    {
      "cell_type": "code",
      "source": [
        "# 1. サンプルデータの取得\n",
        "from sklearn.datasets import load_iris\n",
        "\n",
        "iris = load_iris()\n",
        "X, y = iris.data, iris.target\n",
        "\n",
        "# 2. サンプルデータの分割\n",
        "from sklearn.model_selection import train_test_split\n",
        "\n",
        "train_data, test_data, train_label, test_label = train_test_split(X, y, test_size=0.3, random_state=1)\n",
        "\n",
        "# Step2. モデルのインスタンス化（ランダムフォレストに変更）\n",
        "from sklearn.ensemble import RandomForestClassifier\n",
        "\n",
        "model = RandomForestClassifier(random_state=3)\n",
        "\n",
        "# Step3. モデルの学習と評価\n",
        "model.fit(train_data, train_label)\n",
        "y_pred = model.predict(test_data)\n",
        "\n",
        "from sklearn.metrics import accuracy_score\n",
        "accuracy = accuracy_score(test_label, y_pred)\n",
        "\n",
        "print(\"正解率:\", accuracy)"
      ],
      "metadata": {
        "colab": {
          "base_uri": "https://localhost:8080/"
        },
        "id": "T6MUgugdC7Sb",
        "outputId": "4a93be50-87c9-416e-c18c-5c78bad89d0f"
      },
      "execution_count": 1,
      "outputs": [
        {
          "output_type": "stream",
          "name": "stdout",
          "text": [
            "正解率: 0.9555555555555556\n"
          ]
        }
      ]
    }
  ]
}